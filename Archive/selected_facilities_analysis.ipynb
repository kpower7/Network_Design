{
 "cells": [
  {
   "cell_type": "markdown",
   "id": "af038973",
   "metadata": {},
   "source": [
    "Selected Facilities Analysis - Cluster-Based Demand Analysis\n",
    "# Phoenix, Houston, and Baltimore Network Configuration\n",
    "This notebook analyzes the three selected facilities based on the demand clusters:\n",
    "1. Phoenix, AZ (Western Region)\n",
    "2. Houston, TX (Central Region)\n",
    "3. Baltimore, MD (Eastern Region)"
   ]
  },
  {
   "cell_type": "markdown",
   "id": "1aab1e88",
   "metadata": {},
   "source": [
    "# Import Required Libraries"
   ]
  },
  {
   "cell_type": "code",
   "execution_count": null,
   "id": "a8cda8ee",
   "metadata": {},
   "outputs": [],
   "source": [
    "import pandas as pd\n",
    "import numpy as np\n",
    "from geopy.distance import geodesic\n",
    "import folium\n",
    "from folium import plugins\n",
    "import matplotlib.pyplot as plt\n",
    "import seaborn as sns\n",
    "from sklearn.cluster import KMeans\n",
    "%matplotlib inline"
   ]
  },
  {
   "cell_type": "markdown",
   "id": "a26ef4a8",
   "metadata": {},
   "source": [
    "# Load and Prepare Data"
   ]
  },
  {
   "cell_type": "code",
   "execution_count": null,
   "id": "0c3d231c",
   "metadata": {},
   "outputs": [],
   "source": [
    "# Load all datasets\n",
    "demand_df = pd.read_csv('C:/Users/k_pow/OneDrive/Documents/MIT/MITx SCM/IAP 2025/SCM275x/Assignment Files/Data/demand.csv')\n",
    "products_df = pd.read_csv('C:/Users/k_pow/OneDrive/Documents/MIT/MITx SCM/IAP 2025/SCM275x/Assignment Files/Data/products.csv') # pd.read_csv('Assignment Files/Data/products.csv')\n",
    "stores_df = pd.read_csv('C:/Users/k_pow/OneDrive/Documents/MIT/MITx SCM/IAP 2025/SCM275x/Assignment Files/Data//stores.csv')\n",
    "rates_df = pd.read_csv('C:/Users/k_pow/OneDrive/Documents/MIT/MITx SCM/IAP 2025/SCM275x/Assignment Files/Data//rates.csv')\n",
    "labor_df = pd.read_csv('C:/Users/k_pow/OneDrive/Documents/MIT/MITx SCM/IAP 2025/SCM275x/Assignment Files/Data//labor_cost.csv')\n",
    "facilities_df = pd.read_csv('C:/Users/k_pow/OneDrive/Documents/MIT/MITx SCM/IAP 2025/SCM275x/Assignment Files/Data//facilities.csv')\n",
    "\n",
    "\n",
    "# Calculate annual demand in pallets\n",
    "demand_df = demand_df.merge(products_df[['SKU', 'SKUs/pallet']], on='SKU', how='left')\n",
    "demand_df['Demand_Pallets'] = demand_df['Demand'] / demand_df['SKUs/pallet']\n",
    "annual_demand = demand_df.groupby('StoreID')['Demand_Pallets'].sum().reset_index()\n",
    "store_demand = stores_df.merge(annual_demand, on='StoreID', how='left')"
   ]
  },
  {
   "cell_type": "markdown",
   "id": "cd77d1c5",
   "metadata": {},
   "source": [
    "# Cluster Analysis"
   ]
  },
  {
   "cell_type": "code",
   "execution_count": null,
   "id": "bb70e342",
   "metadata": {
    "lines_to_next_cell": 1
   },
   "outputs": [],
   "source": [
    "# Prepare data for clustering\n",
    "X = store_demand[['Latitude', 'Longitude']].values\n",
    "weights = store_demand['Demand_Pallets'].values\n",
    "\n",
    "# Perform 3-cluster analysis\n",
    "kmeans = KMeans(n_clusters=3, random_state=42)\n",
    "kmeans.fit(X, sample_weight=weights)\n",
    "store_demand['Cluster'] = kmeans.labels_\n",
    "\n",
    "# Selected facilities\n",
    "selected_facilities = {\n",
    "    'Western': facilities_df[facilities_df['FacilityID'] == 'FAC027'].iloc[0],  # Phoenix\n",
    "    'Central': facilities_df[facilities_df['FacilityID'] == 'FAC011'].iloc[0],  # Houston\n",
    "    'Eastern': facilities_df[facilities_df['FacilityID'] == 'FAC045'].iloc[0]   # Baltimore\n",
    "}"
   ]
  },
  {
   "cell_type": "markdown",
   "id": "98d834a1",
   "metadata": {},
   "source": [
    "# Create Network Map with Clusters"
   ]
  },
  {
   "cell_type": "code",
   "execution_count": null,
   "id": "d8bd420e",
   "metadata": {},
   "outputs": [],
   "source": [
    "def create_network_map():\n",
    "    \"\"\"Create a map showing selected facilities and their clusters\"\"\"\n",
    "    m = folium.Map(location=[39.8283, -98.5795], zoom_start=4)\n",
    "    \n",
    "    colors = ['red', 'blue', 'green']\n",
    "    region_colors = {'Western': 'red', 'Central': 'blue', 'Eastern': 'green'}\n",
    "    \n",
    "    # Add stores with cluster colors\n",
    "    for idx, store in store_demand.iterrows():\n",
    "        folium.CircleMarker(\n",
    "            location=[store['Latitude'], store['Longitude']],\n",
    "            radius=5,\n",
    "            color=colors[store['Cluster']],\n",
    "            fill=True,\n",
    "            popup=f\"Store: {store['StoreID']}<br>\" +\n",
    "                  f\"City: {store['City']}, {store['State']}<br>\" +\n",
    "                  f\"Annual Demand: {store['Demand_Pallets']:,.0f} pallets<br>\" +\n",
    "                  f\"Cluster: {store['Cluster']}\",\n",
    "            fillOpacity=0.7\n",
    "        ).add_to(m)\n",
    "    \n",
    "    # Add facilities with larger markers\n",
    "    for region, facility in selected_facilities.items():\n",
    "        city = facility['Location'].split(',')[0].strip()\n",
    "        state = facility['Location'].split(',')[1].strip()\n",
    "        matching_stores = stores_df[\n",
    "            (stores_df['City'] == city) & \n",
    "            (stores_df['State'] == state)\n",
    "        ]\n",
    "        \n",
    "        if len(matching_stores) > 0:\n",
    "            folium.CircleMarker(\n",
    "                location=[matching_stores.iloc[0]['Latitude'],\n",
    "                         matching_stores.iloc[0]['Longitude']],\n",
    "                radius=10,\n",
    "                color=region_colors[region],\n",
    "                fill=True,\n",
    "                popup=f\"Facility: {facility['Location']}<br>\" +\n",
    "                      f\"Total Cost: ${facility['RentCost_SqFt'] + facility['UtilitiesOpsCost_SqFt']:.2f}/sqft<br>\" +\n",
    "                      f\"Size: {facility['Size_SqFt']:,} sqft\",\n",
    "                fillOpacity=0.9\n",
    "            ).add_to(m)\n",
    "            \n",
    "            # Add service area circle\n",
    "            folium.Circle(\n",
    "                location=[matching_stores.iloc[0]['Latitude'],\n",
    "                         matching_stores.iloc[0]['Longitude']],\n",
    "                radius=500000,  # 500km radius\n",
    "                color=region_colors[region],\n",
    "                fill=True,\n",
    "                opacity=0.1,\n",
    "                popup=f\"{facility['Location']} Service Area\"\n",
    "            ).add_to(m)\n",
    "    \n",
    "    return m\n",
    "\n",
    "network_map = create_network_map()\n",
    "display(network_map)"
   ]
  },
  {
   "cell_type": "markdown",
   "id": "e701a0f6",
   "metadata": {},
   "source": [
    "# Cluster Demand Analysis"
   ]
  },
  {
   "cell_type": "code",
   "execution_count": null,
   "id": "ee801a15",
   "metadata": {
    "lines_to_next_cell": 1
   },
   "outputs": [],
   "source": [
    "# Calculate demand statistics by cluster\n",
    "cluster_stats = store_demand.groupby('Cluster').agg({\n",
    "    'Demand_Pallets': ['sum', 'mean'],\n",
    "    'StoreID': 'count'\n",
    "}).round(2)\n",
    "\n",
    "# Fix the column names\n",
    "cluster_stats.columns = ['Total_Demand', 'Avg_Demand', 'Store_Count']\n",
    "print(\"\\nCluster Statistics:\")\n",
    "display(cluster_stats)\n",
    "\n",
    "# Create demand distribution visualization\n",
    "plt.figure(figsize=(15, 5))\n",
    "\n",
    "# Pie chart of total demand by cluster\n",
    "plt.subplot(1, 2, 1)\n",
    "plt.pie(cluster_stats['Total_Demand'], \n",
    "        labels=[f'Cluster {i}' for i in range(3)],\n",
    "        autopct='%1.1f%%', \n",
    "        startangle=90)\n",
    "plt.title('Distribution of Total Demand by Cluster')\n",
    "\n",
    "# Bar chart of average demand by cluster\n",
    "plt.subplot(1, 2, 2)\n",
    "plt.bar(range(3), cluster_stats['Avg_Demand'])\n",
    "plt.title('Average Demand by Cluster')\n",
    "plt.xlabel('Cluster')\n",
    "plt.ylabel('Average Demand (Pallets)')\n",
    "plt.xticks(range(3), [f'Cluster {i}' for i in range(3)])\n",
    "\n",
    "plt.tight_layout()\n",
    "plt.show()"
   ]
  },
  {
   "cell_type": "markdown",
   "id": "562ac83c",
   "metadata": {},
   "source": [
    "# Distance Analysis"
   ]
  },
  {
   "cell_type": "code",
   "execution_count": null,
   "id": "b02f1ded",
   "metadata": {},
   "outputs": [],
   "source": [
    "def calculate_distances_to_facilities():\n",
    "    \"\"\"Calculate distances from each store to each facility\"\"\"\n",
    "    facility_locations = {}\n",
    "    \n",
    "    # Get facility coordinates\n",
    "    for region, facility in selected_facilities.items():\n",
    "        city = facility['Location'].split(',')[0].strip()\n",
    "        state = facility['Location'].split(',')[1].strip()\n",
    "        matching_stores = stores_df[\n",
    "            (stores_df['City'] == city) & \n",
    "            (stores_df['State'] == state)\n",
    "        ]\n",
    "        if len(matching_stores) > 0:\n",
    "            facility_locations[region] = (\n",
    "                matching_stores.iloc[0]['Latitude'],\n",
    "                matching_stores.iloc[0]['Longitude']\n",
    "            )\n",
    "    \n",
    "    # Calculate distances\n",
    "    distances = pd.DataFrame()\n",
    "    for region, coords in facility_locations.items():\n",
    "        distances[f'Distance_to_{region}'] = store_demand.apply(\n",
    "            lambda row: geodesic(\n",
    "                (row['Latitude'], row['Longitude']),\n",
    "                coords\n",
    "            ).miles,\n",
    "            axis=1\n",
    "        )\n",
    "    \n",
    "    return distances\n",
    "\n",
    "distances_df = calculate_distances_to_facilities()\n",
    "store_demand = pd.concat([store_demand, distances_df], axis=1)\n",
    "\n",
    "# Calculate average distances by cluster\n",
    "avg_distances = store_demand.groupby('Cluster')[\n",
    "    ['Distance_to_Western', 'Distance_to_Central', 'Distance_to_Eastern']\n",
    "].mean().round(2)\n",
    "\n",
    "print(\"\\nAverage Distances (miles) by Cluster:\")\n",
    "display(avg_distances)\n",
    "\n",
    "# Create distance visualization\n",
    "plt.figure(figsize=(10, 6))\n",
    "sns.boxplot(data=store_demand.melt(\n",
    "    id_vars=['Cluster'],\n",
    "    value_vars=['Distance_to_Western', 'Distance_to_Central', 'Distance_to_Eastern'],\n",
    "    var_name='Facility',\n",
    "    value_name='Distance'\n",
    "))\n",
    "plt.title('Distribution of Distances to Facilities by Cluster')\n",
    "plt.xlabel('Cluster')\n",
    "plt.ylabel('Distance (miles)')\n",
    "plt.xticks(rotation=45)\n",
    "plt.tight_layout()\n",
    "plt.show()"
   ]
  },
  {
   "cell_type": "markdown",
   "id": "4a69401a",
   "metadata": {},
   "source": [
    "# Key Findings\n",
    "\n",
    "1. Cluster Characteristics:\n",
    "   - Cluster 0 (Western): {cluster_stats.loc[0, 'Total_Demand']:,.0f} pallets total demand, {cluster_stats.loc[0, 'Store_Count']:,.0f} stores\n",
    "   - Cluster 1 (Central): {cluster_stats.loc[1, 'Total_Demand']:,.0f} pallets total demand, {cluster_stats.loc[1, 'Store_Count']:,.0f} stores\n",
    "   - Cluster 2 (Eastern): {cluster_stats.loc[2, 'Total_Demand']:,.0f} pallets total demand, {cluster_stats.loc[2, 'Store_Count']:,.0f} stores\n",
    "\n",
    "2. Demand Distribution:\n",
    "   - Western Cluster: {(cluster_stats.loc[0, 'Total_Demand'] / cluster_stats['Total_Demand'].sum() * 100):.1f}% of total demand\n",
    "   - Central Cluster: {(cluster_stats.loc[1, 'Total_Demand'] / cluster_stats['Total_Demand'].sum() * 100):.1f}% of total demand\n",
    "   - Eastern Cluster: {(cluster_stats.loc[2, 'Total_Demand'] / cluster_stats['Total_Demand'].sum() * 100):.1f}% of total demand\n",
    "\n",
    "3. Average Distances:\n",
    "   - Western Cluster average distance to Phoenix: {avg_distances.loc[0, 'Distance_to_Western']:,.0f} miles\n",
    "   - Central Cluster average distance to Houston: {avg_distances.loc[1, 'Distance_to_Central']:,.0f} miles\n",
    "   - Eastern Cluster average distance to Baltimore: {avg_distances.loc[2, 'Distance_to_Eastern']:,.0f} miles"
   ]
  }
 ],
 "metadata": {
  "jupytext": {
   "cell_metadata_filter": "-all",
   "main_language": "python",
   "notebook_metadata_filter": "-all"
  }
 },
 "nbformat": 4,
 "nbformat_minor": 5
}
